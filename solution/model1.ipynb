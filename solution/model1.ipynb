{
  "nbformat": 4,
  "nbformat_minor": 0,
  "metadata": {
    "colab": {
      "provenance": []
    },
    "kernelspec": {
      "name": "python3",
      "display_name": "Python 3"
    },
    "language_info": {
      "name": "python"
    }
  },
  "cells": [
    {
      "cell_type": "code",
      "execution_count": null,
      "metadata": {
        "id": "i6k6pn-qm5H7"
      },
      "outputs": [],
      "source": [
        "\n"
      ]
    },
    {
      "cell_type": "code",
      "source": [
        "import tensorflow as tf\n",
        "import pandas as pd\n",
        "from sklearn.preprocessing import StandardScaler\n",
        "from sklearn.model_selection import train_test_split\n",
        "import os\n",
        "\n",
        "def load_and_evaluate_model(input_path, model_path):\n",
        "    # Загрузка подготовленных данных\n",
        "    prepared_data_file = os.path.join(input_path, 'prepared_data.csv')\n",
        "    data = pd.read_csv(prepared_data_file)\n",
        "    print(\"Prepared data loaded successfully.\")\n",
        "\n",
        "    # Разделение на признаки и целевую переменную\n",
        "    X = data.drop(columns=['target'])  # Замените 'target' на имя вашего столбца-цели\n",
        "    y = data['target']\n",
        "\n",
        "    # Стандартизация данных\n",
        "    scaler = StandardScaler()\n",
        "    X = scaler.fit_transform(X)\n",
        "\n",
        "    # Разделение на обучающую и тестовую выборки\n",
        "    X_train, X_test, y_train, y_test = train_test_split(X, y, test_size=0.2, random_state=42)\n",
        "\n",
        "    # Загрузка модели\n",
        "    model = tf.keras.models.load_model(model_path)\n",
        "    print(f\"Model loaded from {model_path}\")\n",
        "\n",
        "    # Оценка модели\n",
        "    results = model.evaluate(X_test, y_test)\n",
        "\n",
        "\n",
        "    print(f\"Evaluation Results: Loss = {results[0]}, Mean Absolute Error (MAE) = {results[1]}, Mean Squared Error = {results[2]}\")\n",
        "\n",
        "    return results\n",
        "\n",
        "\n",
        "model_path = '/content/final_model.h5'\n",
        "input_path = '/content/'\n",
        "\n",
        "# Загрузка и оценка модели\n",
        "load_and_evaluate_model(input_path, model_path)\n",
        "\n"
      ],
      "metadata": {
        "colab": {
          "base_uri": "https://localhost:8080/"
        },
        "id": "R01q1Jvlogy_",
        "outputId": "60eb8d8d-561d-40dc-f557-9238c8164967"
      },
      "execution_count": 5,
      "outputs": [
        {
          "output_type": "stream",
          "name": "stderr",
          "text": [
            "WARNING:absl:Compiled the loaded model, but the compiled metrics have yet to be built. `model.compile_metrics` will be empty until you train or evaluate the model.\n"
          ]
        },
        {
          "output_type": "stream",
          "name": "stdout",
          "text": [
            "Prepared data loaded successfully.\n",
            "Model loaded from /content/final_model.h5\n",
            "\u001b[1m6/6\u001b[0m \u001b[32m━━━━━━━━━━━━━━━━━━━━\u001b[0m\u001b[37m\u001b[0m \u001b[1m0s\u001b[0m 3ms/step - loss: 0.2335 - mean_absolute_error: 0.4333 - mean_squared_error: 0.2335  \n",
            "Evaluation Results: Loss = 0.23263436555862427, Mean Absolute Error (MAE) = 0.43159157037734985, Mean Squared Error = 0.23263436555862427\n"
          ]
        },
        {
          "output_type": "execute_result",
          "data": {
            "text/plain": [
              "[0.23263436555862427, 0.43159157037734985, 0.23263436555862427]"
            ]
          },
          "metadata": {},
          "execution_count": 5
        }
      ]
    }
  ]
}